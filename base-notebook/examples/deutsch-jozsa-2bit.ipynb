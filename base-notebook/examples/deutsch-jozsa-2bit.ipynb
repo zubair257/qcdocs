{
 "cells": [
  {
   "cell_type": "markdown",
   "metadata": {},
   "source": [
    "# Deutsch-Jozsa Algorithm for 2-bit Boolean functions"
   ]
  },
  {
   "cell_type": "code",
   "execution_count": 1,
   "metadata": {},
   "outputs": [
    {
     "name": "stdout",
     "output_type": "stream",
     "text": [
      "Populating the interactive namespace from numpy and matplotlib\n"
     ]
    }
   ],
   "source": [
    "from qiskit import *\n",
    "%pylab inline"
   ]
  },
  {
   "cell_type": "code",
   "execution_count": 4,
   "metadata": {},
   "outputs": [],
   "source": [
    "def deutch_jozsa_2bit(qcirc):\n",
    "    backend = BasicAer.get_backend('dm_simulator')\n",
    "    # Noise parameters\n",
    "    options = {}\n",
    "    options_noisy = {\n",
    "        \"thermal_factor\": 0.,\n",
    "        \"decoherence_factor\": .9,\n",
    "        \"depolarization_factor\": 0.99,\n",
    "        \"bell_depolarization_factor\": 0.99,\n",
    "        \"decay_factor\": 0.99,\n",
    "        \"rotation_error\": {'rx':[1., 0.], 'ry':[1., 0.], 'rz': [1., 0.]},\n",
    "        \"tsp_model_error\": [1., 0.],\n",
    "        \"plot\": False\n",
    "    }\n",
    "    # Execution with and without noise\n",
    "    run = execute(qcirc,backend,**options)\n",
    "    result = run.result()\n",
    "    run_error = execute(qcirc,backend,**options_noisy)\n",
    "    result_error = run_error.result()\n",
    "    # Final state (probabilities)\n",
    "    prob = result['results'][0]['data']['ensemble_probability']\n",
    "    prob_error = result_error['results'][0]['data']['ensemble_probability']\n",
    "\n",
    "    proj_prob = {}\n",
    "    proj_prob_error = {}\n",
    "\n",
    "    proj_prob['00'] = prob['000'] + prob['001']\n",
    "    proj_prob['01'] = prob['010'] + prob['011']\n",
    "    proj_prob['10'] = prob['100'] + prob['101']\n",
    "    proj_prob['11'] = prob['110'] + prob['111']\n",
    "    proj_prob_error['00'] = prob_error['000'] + prob_error['001']\n",
    "    proj_prob_error['01'] = prob_error['010'] + prob_error['011']\n",
    "    proj_prob_error['10'] = prob_error['100'] + prob_error['101']\n",
    "    proj_prob_error['11'] = prob_error['110'] + prob_error['111']\n",
    "\n",
    "    labels = proj_prob.keys()\n",
    "    without_noise = proj_prob.values()\n",
    "    with_noise = proj_prob_error.values()\n",
    "\n",
    "    x = np.arange(len(labels))  # the label locations\n",
    "    width = 0.35  # the width of the bars\n",
    "\n",
    "    fig, ax = plt.subplots()\n",
    "    rects1 = ax.bar(x - width/2, without_noise, width, label='Without Noise')\n",
    "    rects2 = ax.bar(x + width/2, with_noise, width, label='With Noise')\n",
    "\n",
    "    # Add some text for labels, title and custom x-axis tick labels, etc.\n",
    "    ax.set_ylabel('Probability')\n",
    "    ax.set_title('Ensemble Probabilities with Noise')\n",
    "    ax.set_xticks(x)\n",
    "    ax.set_xticklabels(labels)\n",
    "    ax.legend()\n",
    "    plt.show()"
   ]
  },
  {
   "cell_type": "markdown",
   "metadata": {},
   "source": [
    "## Deutsch Algorithm for 2-bit Boolean functions"
   ]
  },
  {
   "cell_type": "code",
   "execution_count": 6,
   "metadata": {},
   "outputs": [
    {
     "data": {
      "image/png": "[encoded data removed]",
      "text/plain": [
       "<Figure size 432x288 with 1 Axes>"
      ]
     },
     "metadata": {
      "needs_background": "light"
     },
     "output_type": "display_data"
    }
   ],
   "source": [
    "f0_qc = QuantumCircuit(3,1)\n",
    "# Prepare ancilla for phase oracle\n",
    "f0_qc.x(-1)\n",
    "f0_qc.h(-1)\n",
    "# Hadamard before\n",
    "f0_qc.h([0,1])\n",
    "# Add the oracle\n",
    "f0_qc.barrier()\n",
    "f0_qc.barrier()\n",
    "# Hadamard after\n",
    "f0_qc.h([0,1])\n",
    "f0_qc.measure(0,0,basis='Ensemble', add_param='Z')\n",
    "# f0_qc.draw()\n",
    "deutch_jozsa_2bit(f0_qc)"
   ]
  },
  {
   "cell_type": "code",
   "execution_count": 7,
   "metadata": {},
   "outputs": [
    {
     "data": {
      "image/png": "[encoded data removed]",
      "text/plain": [
       "<Figure size 432x288 with 1 Axes>"
      ]
     },
     "metadata": {
      "needs_background": "light"
     },
     "output_type": "display_data"
    }
   ],
   "source": [
    "f5_qc = QuantumCircuit(3,1)\n",
    "# Prepare ancilla for phase oracle\n",
    "f5_qc.x(-1)\n",
    "f5_qc.h(-1)\n",
    "# Hadamard before\n",
    "f5_qc.h([0,1])\n",
    "# Add the oracle\n",
    "f5_qc.barrier()\n",
    "f5_qc.cx(0,-1)\n",
    "f5_qc.barrier()\n",
    "# Hadamard after\n",
    "f5_qc.h([0,1])\n",
    "f5_qc.measure(0,0,basis='Ensemble', add_param='Z')\n",
    "# f0_qc.draw()\n",
    "deutch_jozsa_2bit(f5_qc)"
   ]
  }
 ],
 "metadata": {
  "kernelspec": {
   "display_name": "Python 3",
   "language": "python",
   "name": "python3"
  },
  "language_info": {
   "codemirror_mode": {
    "name": "ipython",
    "version": 3
   },
   "file_extension": ".py",
   "mimetype": "text/x-python",
   "name": "python",
   "nbconvert_exporter": "python",
   "pygments_lexer": "ipython3",
   "version": "3.7.6"
  }
 },
 "nbformat": 4,
 "nbformat_minor": 4
}
